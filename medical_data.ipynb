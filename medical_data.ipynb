{
  "nbformat": 4,
  "nbformat_minor": 0,
  "metadata": {
    "colab": {
      "provenance": [],
      "mount_file_id": "158tA1aDLFirlJtlaLkVwcMslyIAZLfES",
      "authorship_tag": "ABX9TyPQ7P87lK2UF4274sHH6yTP",
      "include_colab_link": true
    },
    "kernelspec": {
      "name": "python3",
      "display_name": "Python 3"
    },
    "language_info": {
      "name": "python"
    }
  },
  "cells": [
    {
      "cell_type": "markdown",
      "metadata": {
        "id": "view-in-github",
        "colab_type": "text"
      },
      "source": [
        "<a href=\"https://colab.research.google.com/github/varvelac/medical-callback-data-analytics/blob/main/medical_data.ipynb\" target=\"_parent\"><img src=\"https://colab.research.google.com/assets/colab-badge.svg\" alt=\"Open In Colab\"/></a>"
      ]
    },
    {
      "cell_type": "markdown",
      "source": [
        "# New Section"
      ],
      "metadata": {
        "id": "l5U0Hb_Km7va"
      }
    },
    {
      "cell_type": "code",
      "execution_count": 42,
      "metadata": {
        "id": "stza3hgnNG-9",
        "colab": {
          "base_uri": "https://localhost:8080/"
        },
        "outputId": "066bc574-cdc6-48bf-d4db-6022b19063da"
      },
      "outputs": [
        {
          "output_type": "stream",
          "name": "stdout",
          "text": [
            "Mounted at /content/gdrive\n",
            "Looking in indexes: https://pypi.org/simple, https://us-python.pkg.dev/colab-wheels/public/simple/\n",
            "Requirement already satisfied: gspread in /usr/local/lib/python3.8/dist-packages (3.4.2)\n",
            "Requirement already satisfied: gspread_dataframe in /usr/local/lib/python3.8/dist-packages (3.0.8)\n",
            "Requirement already satisfied: requests>=2.2.1 in /usr/local/lib/python3.8/dist-packages (from gspread) (2.25.1)\n",
            "Requirement already satisfied: google-auth in /usr/local/lib/python3.8/dist-packages (from gspread) (2.16.0)\n",
            "Requirement already satisfied: pandas>=0.14.0 in /usr/local/lib/python3.8/dist-packages (from gspread_dataframe) (1.3.5)\n",
            "Requirement already satisfied: numpy>=1.17.3 in /usr/local/lib/python3.8/dist-packages (from pandas>=0.14.0->gspread_dataframe) (1.21.6)\n",
            "Requirement already satisfied: pytz>=2017.3 in /usr/local/lib/python3.8/dist-packages (from pandas>=0.14.0->gspread_dataframe) (2022.7.1)\n",
            "Requirement already satisfied: python-dateutil>=2.7.3 in /usr/local/lib/python3.8/dist-packages (from pandas>=0.14.0->gspread_dataframe) (2.8.2)\n",
            "Requirement already satisfied: certifi>=2017.4.17 in /usr/local/lib/python3.8/dist-packages (from requests>=2.2.1->gspread) (2022.12.7)\n",
            "Requirement already satisfied: urllib3<1.27,>=1.21.1 in /usr/local/lib/python3.8/dist-packages (from requests>=2.2.1->gspread) (1.24.3)\n",
            "Requirement already satisfied: chardet<5,>=3.0.2 in /usr/local/lib/python3.8/dist-packages (from requests>=2.2.1->gspread) (4.0.0)\n",
            "Requirement already satisfied: idna<3,>=2.5 in /usr/local/lib/python3.8/dist-packages (from requests>=2.2.1->gspread) (2.10)\n",
            "Requirement already satisfied: pyasn1-modules>=0.2.1 in /usr/local/lib/python3.8/dist-packages (from google-auth->gspread) (0.2.8)\n",
            "Requirement already satisfied: rsa<5,>=3.1.4 in /usr/local/lib/python3.8/dist-packages (from google-auth->gspread) (4.9)\n",
            "Requirement already satisfied: six>=1.9.0 in /usr/local/lib/python3.8/dist-packages (from google-auth->gspread) (1.15.0)\n",
            "Requirement already satisfied: cachetools<6.0,>=2.0.0 in /usr/local/lib/python3.8/dist-packages (from google-auth->gspread) (5.3.0)\n",
            "Requirement already satisfied: pyasn1<0.5.0,>=0.4.6 in /usr/local/lib/python3.8/dist-packages (from pyasn1-modules>=0.2.1->google-auth->gspread) (0.4.8)\n"
          ]
        }
      ],
      "source": [
        "#invite people for the Kaggle party\n",
        "import pandas as pd\n",
        "import matplotlib.pyplot as plt\n",
        "import seaborn as sns\n",
        "import numpy as np\n",
        "from scipy.stats import norm\n",
        "from sklearn.preprocessing import StandardScaler\n",
        "from sklearn.preprocessing import LabelEncoder\n",
        "from scipy import stats\n",
        "import warnings\n",
        "warnings.filterwarnings('ignore')\n",
        "%matplotlib inline\n",
        "#sns.set_theme(style=\"whitegrid\")\n",
        "# colors = [\"windows blue\", \"amber\", \"greyish\", \"faded green\", \"dusty purple\"]\n",
        "# sns.set_palette(sns.xkcd_palette(colors))\n",
        "from datetime import datetime, timedelta\n",
        "\n",
        "\n",
        "#using google spreadsheets so i don't have to keep uploading my files\n",
        "from google.colab import drive\n",
        "drive.mount('/content/gdrive')\n",
        "!pip install gspread gspread_dataframe\n",
        "import gspread\n",
        "from gspread_dataframe import set_with_dataframe\n",
        "\n",
        "\n",
        "\n"
      ]
    },
    {
      "cell_type": "code",
      "source": [
        "sh = gc.open_by_url('https://docs.google.com/spreadsheets/d/<target_spreadsheet_id>')\n",
        "worksheet = sh.sheet1\n",
        "\n",
        "# Read the source Google Sheets\n",
        "spreadsheet_ids = ['<spreadsheet_id_1>', '<spreadsheet_id_2>', ...]\n",
        "\n",
        "df_list = []\n",
        "for spreadsheet_id in spreadsheet_ids:\n",
        "  sh = gc.open_by_url(f'https://docs.google.com/spreadsheets/d/{spreadsheet_id}')\n",
        "  worksheet = sh.sheet1\n",
        "  df_list.append(worksheet.get_as_dataframe())\n",
        "\n",
        "# Append the source Google Sheets into a single DataFrame\n",
        "df = pd.concat(df_list)\n",
        "\n",
        "# Write the DataFrame to the target Google Sheet\n",
        "set_with_dataframe(worksheet, df)"
      ],
      "metadata": {
        "id": "_LFpPDr3HzIu"
      },
      "execution_count": null,
      "outputs": []
    },
    {
      "cell_type": "code",
      "source": [
        "df = pd.read_csv('/content/aug-1-2022-jan-25-2023.csv')\n",
        "df.head()"
      ],
      "metadata": {
        "id": "sDiLLy33NqUH",
        "colab": {
          "base_uri": "https://localhost:8080/",
          "height": 548
        },
        "outputId": "fd70aabb-206a-488a-885e-6a0791e2ade5"
      },
      "execution_count": 4,
      "outputs": [
        {
          "output_type": "execute_result",
          "data": {
            "text/plain": [
              "              ID Date of Birth Test Type Referral Date Ordering Last Name  \\\n",
              "0  450980|450975    06/17/1992       HST    01/25/2023             Zouein   \n",
              "1  450977|419459    04/26/1961      CPAP    01/25/2023          Dalla Tor   \n",
              "2  450963|450959    05/16/1989     Split    01/25/2023              Patel   \n",
              "3  450908|450902    03/05/2005   PAP-NAP    01/25/2023               Adan   \n",
              "4  450865|450853    12/10/1941       HST    01/25/2023             Lerner   \n",
              "\n",
              "  Ordering First Test Date      Test Status              IV Status  \\\n",
              "0           Elie       NaN  To Be Scheduled  Pending- NEW Referral   \n",
              "1         Nelson       NaN  To Be Scheduled  Pending- NEW Referral   \n",
              "2      Ashish B.       NaN  To Be Scheduled  Pending- NEW Referral   \n",
              "3           Olga       NaN  To Be Scheduled  Pending- NEW Referral   \n",
              "4          David       NaN  To Be Scheduled  Pending- NEW Referral   \n",
              "\n",
              "         Location Name Unable to Schedule? Unable to Schedule Reason   \\\n",
              "0  CA_SM_Santa_Barbara                  No                        NaN   \n",
              "1        CA_SM_Cypress                  No                        NaN   \n",
              "2       CA_SM_Pasadena                  No                        NaN   \n",
              "3       CA_SM_Redlands                  No                        NaN   \n",
              "4  CA_SM_Santa_Barbara                  No                        NaN   \n",
              "\n",
              "     Incomplete Referral?                        Missing Information:  \\\n",
              "0  Pending - Needs Review                                               \n",
              "1  Pending - Needs Review                                               \n",
              "2  Pending - Needs Review                                               \n",
              "3     Incomplete Referral  Clinical Notes|||Signed Order|||Study Type   \n",
              "4  Pending - Needs Review                                               \n",
              "\n",
              "                        Primary Insurance  \n",
              "0                             Patient Pay  \n",
              "1  Alignment and Pioneer Provider Network  \n",
              "2                           CIGNA - SLEEP  \n",
              "3                           CIGNA - SLEEP  \n",
              "4          Medicare California - Southern  "
            ],
            "text/html": [
              "\n",
              "  <div id=\"df-59214cc4-c9a8-47be-a719-d1b1923409a4\">\n",
              "    <div class=\"colab-df-container\">\n",
              "      <div>\n",
              "<style scoped>\n",
              "    .dataframe tbody tr th:only-of-type {\n",
              "        vertical-align: middle;\n",
              "    }\n",
              "\n",
              "    .dataframe tbody tr th {\n",
              "        vertical-align: top;\n",
              "    }\n",
              "\n",
              "    .dataframe thead th {\n",
              "        text-align: right;\n",
              "    }\n",
              "</style>\n",
              "<table border=\"1\" class=\"dataframe\">\n",
              "  <thead>\n",
              "    <tr style=\"text-align: right;\">\n",
              "      <th></th>\n",
              "      <th>ID</th>\n",
              "      <th>Date of Birth</th>\n",
              "      <th>Test Type</th>\n",
              "      <th>Referral Date</th>\n",
              "      <th>Ordering Last Name</th>\n",
              "      <th>Ordering First</th>\n",
              "      <th>Test Date</th>\n",
              "      <th>Test Status</th>\n",
              "      <th>IV Status</th>\n",
              "      <th>Location Name</th>\n",
              "      <th>Unable to Schedule?</th>\n",
              "      <th>Unable to Schedule Reason</th>\n",
              "      <th>Incomplete Referral?</th>\n",
              "      <th>Missing Information:</th>\n",
              "      <th>Primary Insurance</th>\n",
              "    </tr>\n",
              "  </thead>\n",
              "  <tbody>\n",
              "    <tr>\n",
              "      <th>0</th>\n",
              "      <td>450980|450975</td>\n",
              "      <td>06/17/1992</td>\n",
              "      <td>HST</td>\n",
              "      <td>01/25/2023</td>\n",
              "      <td>Zouein</td>\n",
              "      <td>Elie</td>\n",
              "      <td>NaN</td>\n",
              "      <td>To Be Scheduled</td>\n",
              "      <td>Pending- NEW Referral</td>\n",
              "      <td>CA_SM_Santa_Barbara</td>\n",
              "      <td>No</td>\n",
              "      <td>NaN</td>\n",
              "      <td>Pending - Needs Review</td>\n",
              "      <td></td>\n",
              "      <td>Patient Pay</td>\n",
              "    </tr>\n",
              "    <tr>\n",
              "      <th>1</th>\n",
              "      <td>450977|419459</td>\n",
              "      <td>04/26/1961</td>\n",
              "      <td>CPAP</td>\n",
              "      <td>01/25/2023</td>\n",
              "      <td>Dalla Tor</td>\n",
              "      <td>Nelson</td>\n",
              "      <td>NaN</td>\n",
              "      <td>To Be Scheduled</td>\n",
              "      <td>Pending- NEW Referral</td>\n",
              "      <td>CA_SM_Cypress</td>\n",
              "      <td>No</td>\n",
              "      <td>NaN</td>\n",
              "      <td>Pending - Needs Review</td>\n",
              "      <td></td>\n",
              "      <td>Alignment and Pioneer Provider Network</td>\n",
              "    </tr>\n",
              "    <tr>\n",
              "      <th>2</th>\n",
              "      <td>450963|450959</td>\n",
              "      <td>05/16/1989</td>\n",
              "      <td>Split</td>\n",
              "      <td>01/25/2023</td>\n",
              "      <td>Patel</td>\n",
              "      <td>Ashish B.</td>\n",
              "      <td>NaN</td>\n",
              "      <td>To Be Scheduled</td>\n",
              "      <td>Pending- NEW Referral</td>\n",
              "      <td>CA_SM_Pasadena</td>\n",
              "      <td>No</td>\n",
              "      <td>NaN</td>\n",
              "      <td>Pending - Needs Review</td>\n",
              "      <td></td>\n",
              "      <td>CIGNA - SLEEP</td>\n",
              "    </tr>\n",
              "    <tr>\n",
              "      <th>3</th>\n",
              "      <td>450908|450902</td>\n",
              "      <td>03/05/2005</td>\n",
              "      <td>PAP-NAP</td>\n",
              "      <td>01/25/2023</td>\n",
              "      <td>Adan</td>\n",
              "      <td>Olga</td>\n",
              "      <td>NaN</td>\n",
              "      <td>To Be Scheduled</td>\n",
              "      <td>Pending- NEW Referral</td>\n",
              "      <td>CA_SM_Redlands</td>\n",
              "      <td>No</td>\n",
              "      <td>NaN</td>\n",
              "      <td>Incomplete Referral</td>\n",
              "      <td>Clinical Notes|||Signed Order|||Study Type</td>\n",
              "      <td>CIGNA - SLEEP</td>\n",
              "    </tr>\n",
              "    <tr>\n",
              "      <th>4</th>\n",
              "      <td>450865|450853</td>\n",
              "      <td>12/10/1941</td>\n",
              "      <td>HST</td>\n",
              "      <td>01/25/2023</td>\n",
              "      <td>Lerner</td>\n",
              "      <td>David</td>\n",
              "      <td>NaN</td>\n",
              "      <td>To Be Scheduled</td>\n",
              "      <td>Pending- NEW Referral</td>\n",
              "      <td>CA_SM_Santa_Barbara</td>\n",
              "      <td>No</td>\n",
              "      <td>NaN</td>\n",
              "      <td>Pending - Needs Review</td>\n",
              "      <td></td>\n",
              "      <td>Medicare California - Southern</td>\n",
              "    </tr>\n",
              "  </tbody>\n",
              "</table>\n",
              "</div>\n",
              "      <button class=\"colab-df-convert\" onclick=\"convertToInteractive('df-59214cc4-c9a8-47be-a719-d1b1923409a4')\"\n",
              "              title=\"Convert this dataframe to an interactive table.\"\n",
              "              style=\"display:none;\">\n",
              "        \n",
              "  <svg xmlns=\"http://www.w3.org/2000/svg\" height=\"24px\"viewBox=\"0 0 24 24\"\n",
              "       width=\"24px\">\n",
              "    <path d=\"M0 0h24v24H0V0z\" fill=\"none\"/>\n",
              "    <path d=\"M18.56 5.44l.94 2.06.94-2.06 2.06-.94-2.06-.94-.94-2.06-.94 2.06-2.06.94zm-11 1L8.5 8.5l.94-2.06 2.06-.94-2.06-.94L8.5 2.5l-.94 2.06-2.06.94zm10 10l.94 2.06.94-2.06 2.06-.94-2.06-.94-.94-2.06-.94 2.06-2.06.94z\"/><path d=\"M17.41 7.96l-1.37-1.37c-.4-.4-.92-.59-1.43-.59-.52 0-1.04.2-1.43.59L10.3 9.45l-7.72 7.72c-.78.78-.78 2.05 0 2.83L4 21.41c.39.39.9.59 1.41.59.51 0 1.02-.2 1.41-.59l7.78-7.78 2.81-2.81c.8-.78.8-2.07 0-2.86zM5.41 20L4 18.59l7.72-7.72 1.47 1.35L5.41 20z\"/>\n",
              "  </svg>\n",
              "      </button>\n",
              "      \n",
              "  <style>\n",
              "    .colab-df-container {\n",
              "      display:flex;\n",
              "      flex-wrap:wrap;\n",
              "      gap: 12px;\n",
              "    }\n",
              "\n",
              "    .colab-df-convert {\n",
              "      background-color: #E8F0FE;\n",
              "      border: none;\n",
              "      border-radius: 50%;\n",
              "      cursor: pointer;\n",
              "      display: none;\n",
              "      fill: #1967D2;\n",
              "      height: 32px;\n",
              "      padding: 0 0 0 0;\n",
              "      width: 32px;\n",
              "    }\n",
              "\n",
              "    .colab-df-convert:hover {\n",
              "      background-color: #E2EBFA;\n",
              "      box-shadow: 0px 1px 2px rgba(60, 64, 67, 0.3), 0px 1px 3px 1px rgba(60, 64, 67, 0.15);\n",
              "      fill: #174EA6;\n",
              "    }\n",
              "\n",
              "    [theme=dark] .colab-df-convert {\n",
              "      background-color: #3B4455;\n",
              "      fill: #D2E3FC;\n",
              "    }\n",
              "\n",
              "    [theme=dark] .colab-df-convert:hover {\n",
              "      background-color: #434B5C;\n",
              "      box-shadow: 0px 1px 3px 1px rgba(0, 0, 0, 0.15);\n",
              "      filter: drop-shadow(0px 1px 2px rgba(0, 0, 0, 0.3));\n",
              "      fill: #FFFFFF;\n",
              "    }\n",
              "  </style>\n",
              "\n",
              "      <script>\n",
              "        const buttonEl =\n",
              "          document.querySelector('#df-59214cc4-c9a8-47be-a719-d1b1923409a4 button.colab-df-convert');\n",
              "        buttonEl.style.display =\n",
              "          google.colab.kernel.accessAllowed ? 'block' : 'none';\n",
              "\n",
              "        async function convertToInteractive(key) {\n",
              "          const element = document.querySelector('#df-59214cc4-c9a8-47be-a719-d1b1923409a4');\n",
              "          const dataTable =\n",
              "            await google.colab.kernel.invokeFunction('convertToInteractive',\n",
              "                                                     [key], {});\n",
              "          if (!dataTable) return;\n",
              "\n",
              "          const docLinkHtml = 'Like what you see? Visit the ' +\n",
              "            '<a target=\"_blank\" href=https://colab.research.google.com/notebooks/data_table.ipynb>data table notebook</a>'\n",
              "            + ' to learn more about interactive tables.';\n",
              "          element.innerHTML = '';\n",
              "          dataTable['output_type'] = 'display_data';\n",
              "          await google.colab.output.renderOutput(dataTable, element);\n",
              "          const docLink = document.createElement('div');\n",
              "          docLink.innerHTML = docLinkHtml;\n",
              "          element.appendChild(docLink);\n",
              "        }\n",
              "      </script>\n",
              "    </div>\n",
              "  </div>\n",
              "  "
            ]
          },
          "metadata": {},
          "execution_count": 4
        }
      ]
    },
    {
      "cell_type": "markdown",
      "source": [
        "Let's seperate the dob and referral date into a date dataframe.\n",
        "Let's seperate out some category columns that we will convert to numeric for ml training"
      ],
      "metadata": {
        "id": "f_AmRKD6_P9M"
      }
    },
    {
      "cell_type": "code",
      "source": [
        "#not dropping the columns.  seperating to recombine\n",
        "#df.drop(columns=['ID', 'Date of Birth', 'Referral Date', 'Ordering Last Name', 'Ordering First', 'Missing Information:', 'Unable to Schedule Reason ', 'Primary Insurance', 'Test Date'], axis=1, inplace=True)\n",
        "df_numeric = df.loc[:, ['ID','Test Type', 'Test Status', 'IV Status', 'Location Name', 'Unable to Schedule?','Incomplete Referral?', 'Unable to Schedule Reason ']]\n",
        "df_dates = df.loc[:, ['ID','Date of Birth', 'Referral Date']]\n",
        "df_numeric_w_categories = df.loc[:, ['ID','Test Type', 'Test Status', 'IV Status', 'Location Name', 'Unable to Schedule?','Incomplete Referral?', 'Unable to Schedule Reason ']]"
      ],
      "metadata": {
        "id": "29_Bdu2soBrQ"
      },
      "execution_count": 5,
      "outputs": []
    },
    {
      "cell_type": "code",
      "source": [
        "#leaving here for reference\n",
        "# print(pd.factorize(df_train['Test Status']))\n",
        "# df_train[\"Test Status\"] = pd.factorize(df_train[\"Test Status\"])[0]\n",
        "print(df_numeric[\"IV Status\"].value_counts().sort_index())\n",
        "\n",
        "\n",
        "df_numeric['IV Status_numeric'], mapping = pd.factorize(df_numeric[\"IV Status\"])\n",
        "\n",
        "# Save the mapping between integers and string values as a dictionary\n",
        "mapping = dict(zip(mapping, range(len(mapping))))\n",
        "\n",
        "print(mapping)\n"
      ],
      "metadata": {
        "colab": {
          "base_uri": "https://localhost:8080/"
        },
        "id": "qw7DPROFqx3F",
        "outputId": "4c07f849-c850-45ab-d677-5ecdd2b4ce6a"
      },
      "execution_count": 6,
      "outputs": [
        {
          "output_type": "stream",
          "name": "stdout",
          "text": [
            "Complete                            2159\n",
            "Denied                               114\n",
            "Pending- Authorization Initiated      26\n",
            "Pending- Hold IV                       4\n",
            "Pending- NEW Referral               2329\n",
            "Pending- Need additional info         90\n",
            "Name: IV Status, dtype: int64\n",
            "{'Pending- NEW Referral': 0, 'Complete': 1, 'Pending- Need additional info': 2, 'Pending- Authorization Initiated': 3, 'Denied': 4, 'Pending- Hold IV': 5}\n"
          ]
        }
      ]
    },
    {
      "cell_type": "markdown",
      "source": [
        "Lets convert the dob column to age."
      ],
      "metadata": {
        "id": "j5XipJlCA1NH"
      }
    },
    {
      "cell_type": "code",
      "source": [
        "# Convert DOB column to datetime then to age\n",
        "df_dates.dropna(subset=['Date of Birth', 'Referral Date'], inplace=True)\n",
        "#df_dates = df_dates[df_dates['Date of Birth', 'Referral Date'] != 'Invalid']\n",
        "df_dates['Referral Date'] = pd.to_datetime(df_dates['Referral Date'])\n",
        "df_dates[\"Age\"] = round((pd.datetime.now() - pd.to_datetime(df_dates[\"Date of Birth\"])).dt.days/365)\n",
        "\n",
        "df_dates['Referral Month'] = df_dates['Referral Date'].dt.month\n",
        "\n",
        "\n",
        "df_dates.drop(columns=['Date of Birth'], axis=1, inplace=True)\n",
        "df_dates.drop(columns=['Referral Date'], axis=1, inplace=True)\n",
        "#the ID is messy, we just need to give it cleaner but just as arbitrary values\n",
        "encoder = LabelEncoder()\n",
        "df_dates['ID'] = encoder.fit_transform(df_dates['ID'])\n",
        "df_dates.head()\n",
        "\n"
      ],
      "metadata": {
        "colab": {
          "base_uri": "https://localhost:8080/",
          "height": 206
        },
        "id": "vliEpA8_BGh7",
        "outputId": "66fc3989-373a-483f-f60c-765e37fbdc0a"
      },
      "execution_count": 7,
      "outputs": [
        {
          "output_type": "execute_result",
          "data": {
            "text/plain": [
              "     ID   Age  Referral Month\n",
              "0  4723  31.0               1\n",
              "1  4722  62.0               1\n",
              "2  4721  34.0               1\n",
              "3  4720  18.0               1\n",
              "4  4719  81.0               1"
            ],
            "text/html": [
              "\n",
              "  <div id=\"df-d52b2901-3689-4ded-ab01-9ac9f7981283\">\n",
              "    <div class=\"colab-df-container\">\n",
              "      <div>\n",
              "<style scoped>\n",
              "    .dataframe tbody tr th:only-of-type {\n",
              "        vertical-align: middle;\n",
              "    }\n",
              "\n",
              "    .dataframe tbody tr th {\n",
              "        vertical-align: top;\n",
              "    }\n",
              "\n",
              "    .dataframe thead th {\n",
              "        text-align: right;\n",
              "    }\n",
              "</style>\n",
              "<table border=\"1\" class=\"dataframe\">\n",
              "  <thead>\n",
              "    <tr style=\"text-align: right;\">\n",
              "      <th></th>\n",
              "      <th>ID</th>\n",
              "      <th>Age</th>\n",
              "      <th>Referral Month</th>\n",
              "    </tr>\n",
              "  </thead>\n",
              "  <tbody>\n",
              "    <tr>\n",
              "      <th>0</th>\n",
              "      <td>4723</td>\n",
              "      <td>31.0</td>\n",
              "      <td>1</td>\n",
              "    </tr>\n",
              "    <tr>\n",
              "      <th>1</th>\n",
              "      <td>4722</td>\n",
              "      <td>62.0</td>\n",
              "      <td>1</td>\n",
              "    </tr>\n",
              "    <tr>\n",
              "      <th>2</th>\n",
              "      <td>4721</td>\n",
              "      <td>34.0</td>\n",
              "      <td>1</td>\n",
              "    </tr>\n",
              "    <tr>\n",
              "      <th>3</th>\n",
              "      <td>4720</td>\n",
              "      <td>18.0</td>\n",
              "      <td>1</td>\n",
              "    </tr>\n",
              "    <tr>\n",
              "      <th>4</th>\n",
              "      <td>4719</td>\n",
              "      <td>81.0</td>\n",
              "      <td>1</td>\n",
              "    </tr>\n",
              "  </tbody>\n",
              "</table>\n",
              "</div>\n",
              "      <button class=\"colab-df-convert\" onclick=\"convertToInteractive('df-d52b2901-3689-4ded-ab01-9ac9f7981283')\"\n",
              "              title=\"Convert this dataframe to an interactive table.\"\n",
              "              style=\"display:none;\">\n",
              "        \n",
              "  <svg xmlns=\"http://www.w3.org/2000/svg\" height=\"24px\"viewBox=\"0 0 24 24\"\n",
              "       width=\"24px\">\n",
              "    <path d=\"M0 0h24v24H0V0z\" fill=\"none\"/>\n",
              "    <path d=\"M18.56 5.44l.94 2.06.94-2.06 2.06-.94-2.06-.94-.94-2.06-.94 2.06-2.06.94zm-11 1L8.5 8.5l.94-2.06 2.06-.94-2.06-.94L8.5 2.5l-.94 2.06-2.06.94zm10 10l.94 2.06.94-2.06 2.06-.94-2.06-.94-.94-2.06-.94 2.06-2.06.94z\"/><path d=\"M17.41 7.96l-1.37-1.37c-.4-.4-.92-.59-1.43-.59-.52 0-1.04.2-1.43.59L10.3 9.45l-7.72 7.72c-.78.78-.78 2.05 0 2.83L4 21.41c.39.39.9.59 1.41.59.51 0 1.02-.2 1.41-.59l7.78-7.78 2.81-2.81c.8-.78.8-2.07 0-2.86zM5.41 20L4 18.59l7.72-7.72 1.47 1.35L5.41 20z\"/>\n",
              "  </svg>\n",
              "      </button>\n",
              "      \n",
              "  <style>\n",
              "    .colab-df-container {\n",
              "      display:flex;\n",
              "      flex-wrap:wrap;\n",
              "      gap: 12px;\n",
              "    }\n",
              "\n",
              "    .colab-df-convert {\n",
              "      background-color: #E8F0FE;\n",
              "      border: none;\n",
              "      border-radius: 50%;\n",
              "      cursor: pointer;\n",
              "      display: none;\n",
              "      fill: #1967D2;\n",
              "      height: 32px;\n",
              "      padding: 0 0 0 0;\n",
              "      width: 32px;\n",
              "    }\n",
              "\n",
              "    .colab-df-convert:hover {\n",
              "      background-color: #E2EBFA;\n",
              "      box-shadow: 0px 1px 2px rgba(60, 64, 67, 0.3), 0px 1px 3px 1px rgba(60, 64, 67, 0.15);\n",
              "      fill: #174EA6;\n",
              "    }\n",
              "\n",
              "    [theme=dark] .colab-df-convert {\n",
              "      background-color: #3B4455;\n",
              "      fill: #D2E3FC;\n",
              "    }\n",
              "\n",
              "    [theme=dark] .colab-df-convert:hover {\n",
              "      background-color: #434B5C;\n",
              "      box-shadow: 0px 1px 3px 1px rgba(0, 0, 0, 0.15);\n",
              "      filter: drop-shadow(0px 1px 2px rgba(0, 0, 0, 0.3));\n",
              "      fill: #FFFFFF;\n",
              "    }\n",
              "  </style>\n",
              "\n",
              "      <script>\n",
              "        const buttonEl =\n",
              "          document.querySelector('#df-d52b2901-3689-4ded-ab01-9ac9f7981283 button.colab-df-convert');\n",
              "        buttonEl.style.display =\n",
              "          google.colab.kernel.accessAllowed ? 'block' : 'none';\n",
              "\n",
              "        async function convertToInteractive(key) {\n",
              "          const element = document.querySelector('#df-d52b2901-3689-4ded-ab01-9ac9f7981283');\n",
              "          const dataTable =\n",
              "            await google.colab.kernel.invokeFunction('convertToInteractive',\n",
              "                                                     [key], {});\n",
              "          if (!dataTable) return;\n",
              "\n",
              "          const docLinkHtml = 'Like what you see? Visit the ' +\n",
              "            '<a target=\"_blank\" href=https://colab.research.google.com/notebooks/data_table.ipynb>data table notebook</a>'\n",
              "            + ' to learn more about interactive tables.';\n",
              "          element.innerHTML = '';\n",
              "          dataTable['output_type'] = 'display_data';\n",
              "          await google.colab.output.renderOutput(dataTable, element);\n",
              "          const docLink = document.createElement('div');\n",
              "          docLink.innerHTML = docLinkHtml;\n",
              "          element.appendChild(docLink);\n",
              "        }\n",
              "      </script>\n",
              "    </div>\n",
              "  </div>\n",
              "  "
            ]
          },
          "metadata": {},
          "execution_count": 7
        }
      ]
    },
    {
      "cell_type": "code",
      "source": [
        "\n",
        "mapping_defs = {}\n",
        "#save scumming\n",
        "\n",
        "for column in df_numeric.columns:\n",
        "    df_numeric[column], uniques = pd.factorize(df_numeric[column])\n",
        "    mapping_defs[column] = dict(zip(uniques, range(len(uniques))))\n",
        "\n",
        "df_numeric.head()\n",
        "\n"
      ],
      "metadata": {
        "colab": {
          "base_uri": "https://localhost:8080/",
          "height": 268
        },
        "id": "no-v6Qpcz8A0",
        "outputId": "1b221e19-cc77-43c4-87b7-8a081c657b66"
      },
      "execution_count": 8,
      "outputs": [
        {
          "output_type": "execute_result",
          "data": {
            "text/plain": [
              "   ID  Test Type  Test Status  IV Status  Location Name  Unable to Schedule?  \\\n",
              "0   0          0            0          0              0                    0   \n",
              "1   1          1            0          0              1                    0   \n",
              "2   2          2            0          0              2                    0   \n",
              "3   3          3            0          0              3                    0   \n",
              "4   4          0            0          0              0                    0   \n",
              "\n",
              "   Incomplete Referral?  Unable to Schedule Reason   IV Status_numeric  \n",
              "0                     0                          -1                  0  \n",
              "1                     0                          -1                  0  \n",
              "2                     0                          -1                  0  \n",
              "3                     1                          -1                  0  \n",
              "4                     0                          -1                  0  "
            ],
            "text/html": [
              "\n",
              "  <div id=\"df-a705d716-47d6-430c-9229-266f64fef052\">\n",
              "    <div class=\"colab-df-container\">\n",
              "      <div>\n",
              "<style scoped>\n",
              "    .dataframe tbody tr th:only-of-type {\n",
              "        vertical-align: middle;\n",
              "    }\n",
              "\n",
              "    .dataframe tbody tr th {\n",
              "        vertical-align: top;\n",
              "    }\n",
              "\n",
              "    .dataframe thead th {\n",
              "        text-align: right;\n",
              "    }\n",
              "</style>\n",
              "<table border=\"1\" class=\"dataframe\">\n",
              "  <thead>\n",
              "    <tr style=\"text-align: right;\">\n",
              "      <th></th>\n",
              "      <th>ID</th>\n",
              "      <th>Test Type</th>\n",
              "      <th>Test Status</th>\n",
              "      <th>IV Status</th>\n",
              "      <th>Location Name</th>\n",
              "      <th>Unable to Schedule?</th>\n",
              "      <th>Incomplete Referral?</th>\n",
              "      <th>Unable to Schedule Reason</th>\n",
              "      <th>IV Status_numeric</th>\n",
              "    </tr>\n",
              "  </thead>\n",
              "  <tbody>\n",
              "    <tr>\n",
              "      <th>0</th>\n",
              "      <td>0</td>\n",
              "      <td>0</td>\n",
              "      <td>0</td>\n",
              "      <td>0</td>\n",
              "      <td>0</td>\n",
              "      <td>0</td>\n",
              "      <td>0</td>\n",
              "      <td>-1</td>\n",
              "      <td>0</td>\n",
              "    </tr>\n",
              "    <tr>\n",
              "      <th>1</th>\n",
              "      <td>1</td>\n",
              "      <td>1</td>\n",
              "      <td>0</td>\n",
              "      <td>0</td>\n",
              "      <td>1</td>\n",
              "      <td>0</td>\n",
              "      <td>0</td>\n",
              "      <td>-1</td>\n",
              "      <td>0</td>\n",
              "    </tr>\n",
              "    <tr>\n",
              "      <th>2</th>\n",
              "      <td>2</td>\n",
              "      <td>2</td>\n",
              "      <td>0</td>\n",
              "      <td>0</td>\n",
              "      <td>2</td>\n",
              "      <td>0</td>\n",
              "      <td>0</td>\n",
              "      <td>-1</td>\n",
              "      <td>0</td>\n",
              "    </tr>\n",
              "    <tr>\n",
              "      <th>3</th>\n",
              "      <td>3</td>\n",
              "      <td>3</td>\n",
              "      <td>0</td>\n",
              "      <td>0</td>\n",
              "      <td>3</td>\n",
              "      <td>0</td>\n",
              "      <td>1</td>\n",
              "      <td>-1</td>\n",
              "      <td>0</td>\n",
              "    </tr>\n",
              "    <tr>\n",
              "      <th>4</th>\n",
              "      <td>4</td>\n",
              "      <td>0</td>\n",
              "      <td>0</td>\n",
              "      <td>0</td>\n",
              "      <td>0</td>\n",
              "      <td>0</td>\n",
              "      <td>0</td>\n",
              "      <td>-1</td>\n",
              "      <td>0</td>\n",
              "    </tr>\n",
              "  </tbody>\n",
              "</table>\n",
              "</div>\n",
              "      <button class=\"colab-df-convert\" onclick=\"convertToInteractive('df-a705d716-47d6-430c-9229-266f64fef052')\"\n",
              "              title=\"Convert this dataframe to an interactive table.\"\n",
              "              style=\"display:none;\">\n",
              "        \n",
              "  <svg xmlns=\"http://www.w3.org/2000/svg\" height=\"24px\"viewBox=\"0 0 24 24\"\n",
              "       width=\"24px\">\n",
              "    <path d=\"M0 0h24v24H0V0z\" fill=\"none\"/>\n",
              "    <path d=\"M18.56 5.44l.94 2.06.94-2.06 2.06-.94-2.06-.94-.94-2.06-.94 2.06-2.06.94zm-11 1L8.5 8.5l.94-2.06 2.06-.94-2.06-.94L8.5 2.5l-.94 2.06-2.06.94zm10 10l.94 2.06.94-2.06 2.06-.94-2.06-.94-.94-2.06-.94 2.06-2.06.94z\"/><path d=\"M17.41 7.96l-1.37-1.37c-.4-.4-.92-.59-1.43-.59-.52 0-1.04.2-1.43.59L10.3 9.45l-7.72 7.72c-.78.78-.78 2.05 0 2.83L4 21.41c.39.39.9.59 1.41.59.51 0 1.02-.2 1.41-.59l7.78-7.78 2.81-2.81c.8-.78.8-2.07 0-2.86zM5.41 20L4 18.59l7.72-7.72 1.47 1.35L5.41 20z\"/>\n",
              "  </svg>\n",
              "      </button>\n",
              "      \n",
              "  <style>\n",
              "    .colab-df-container {\n",
              "      display:flex;\n",
              "      flex-wrap:wrap;\n",
              "      gap: 12px;\n",
              "    }\n",
              "\n",
              "    .colab-df-convert {\n",
              "      background-color: #E8F0FE;\n",
              "      border: none;\n",
              "      border-radius: 50%;\n",
              "      cursor: pointer;\n",
              "      display: none;\n",
              "      fill: #1967D2;\n",
              "      height: 32px;\n",
              "      padding: 0 0 0 0;\n",
              "      width: 32px;\n",
              "    }\n",
              "\n",
              "    .colab-df-convert:hover {\n",
              "      background-color: #E2EBFA;\n",
              "      box-shadow: 0px 1px 2px rgba(60, 64, 67, 0.3), 0px 1px 3px 1px rgba(60, 64, 67, 0.15);\n",
              "      fill: #174EA6;\n",
              "    }\n",
              "\n",
              "    [theme=dark] .colab-df-convert {\n",
              "      background-color: #3B4455;\n",
              "      fill: #D2E3FC;\n",
              "    }\n",
              "\n",
              "    [theme=dark] .colab-df-convert:hover {\n",
              "      background-color: #434B5C;\n",
              "      box-shadow: 0px 1px 3px 1px rgba(0, 0, 0, 0.15);\n",
              "      filter: drop-shadow(0px 1px 2px rgba(0, 0, 0, 0.3));\n",
              "      fill: #FFFFFF;\n",
              "    }\n",
              "  </style>\n",
              "\n",
              "      <script>\n",
              "        const buttonEl =\n",
              "          document.querySelector('#df-a705d716-47d6-430c-9229-266f64fef052 button.colab-df-convert');\n",
              "        buttonEl.style.display =\n",
              "          google.colab.kernel.accessAllowed ? 'block' : 'none';\n",
              "\n",
              "        async function convertToInteractive(key) {\n",
              "          const element = document.querySelector('#df-a705d716-47d6-430c-9229-266f64fef052');\n",
              "          const dataTable =\n",
              "            await google.colab.kernel.invokeFunction('convertToInteractive',\n",
              "                                                     [key], {});\n",
              "          if (!dataTable) return;\n",
              "\n",
              "          const docLinkHtml = 'Like what you see? Visit the ' +\n",
              "            '<a target=\"_blank\" href=https://colab.research.google.com/notebooks/data_table.ipynb>data table notebook</a>'\n",
              "            + ' to learn more about interactive tables.';\n",
              "          element.innerHTML = '';\n",
              "          dataTable['output_type'] = 'display_data';\n",
              "          await google.colab.output.renderOutput(dataTable, element);\n",
              "          const docLink = document.createElement('div');\n",
              "          docLink.innerHTML = docLinkHtml;\n",
              "          element.appendChild(docLink);\n",
              "        }\n",
              "      </script>\n",
              "    </div>\n",
              "  </div>\n",
              "  "
            ]
          },
          "metadata": {},
          "execution_count": 8
        }
      ]
    },
    {
      "cell_type": "code",
      "source": [
        "print(mapping_defs['IV Status'])"
      ],
      "metadata": {
        "colab": {
          "base_uri": "https://localhost:8080/"
        },
        "id": "bjq_MCfwQuEb",
        "outputId": "d70c370c-8fbd-45e3-c75b-76f6a9e7c133"
      },
      "execution_count": 9,
      "outputs": [
        {
          "output_type": "stream",
          "name": "stdout",
          "text": [
            "{'Pending- NEW Referral': 0, 'Complete': 1, 'Pending- Need additional info': 2, 'Pending- Authorization Initiated': 3, 'Denied': 4, 'Pending- Hold IV': 5}\n"
          ]
        }
      ]
    },
    {
      "cell_type": "markdown",
      "source": [
        "Let's join the dataframes on ID."
      ],
      "metadata": {
        "id": "mBWsKS71HfqV"
      }
    },
    {
      "cell_type": "code",
      "source": [
        "#print(df_numeric.apply(type))\n",
        "#print(df_dates.apply(type))\n",
        "df_dates['ID'] = df_dates['ID'].astype(int)\n",
        "df_numeric['ID'] = df_numeric['ID'].astype(int)\n",
        "\n",
        "merged_df = pd.merge(df_numeric, df_dates, on='ID')\n",
        "merged_df.head()\n"
      ],
      "metadata": {
        "colab": {
          "base_uri": "https://localhost:8080/",
          "height": 268
        },
        "id": "Q_S3BZgEHq-2",
        "outputId": "53f4fe30-6c15-49f4-a73a-24005ce49077"
      },
      "execution_count": 10,
      "outputs": [
        {
          "output_type": "execute_result",
          "data": {
            "text/plain": [
              "   ID  Test Type  Test Status  IV Status  Location Name  Unable to Schedule?  \\\n",
              "0   0          0            0          0              0                    0   \n",
              "1   1          1            0          0              1                    0   \n",
              "2   2          2            0          0              2                    0   \n",
              "3   3          3            0          0              3                    0   \n",
              "4   4          0            0          0              0                    0   \n",
              "\n",
              "   Incomplete Referral?  Unable to Schedule Reason   IV Status_numeric   Age  \\\n",
              "0                     0                          -1                  0  42.0   \n",
              "1                     0                          -1                  0  67.0   \n",
              "2                     0                          -1                  0  54.0   \n",
              "3                     1                          -1                  0  45.0   \n",
              "4                     0                          -1                  0  30.0   \n",
              "\n",
              "   Referral Month  \n",
              "0              10  \n",
              "1              10  \n",
              "2              11  \n",
              "3               8  \n",
              "4               8  "
            ],
            "text/html": [
              "\n",
              "  <div id=\"df-d506b5db-4a59-42a8-a2f8-887e9e8986e0\">\n",
              "    <div class=\"colab-df-container\">\n",
              "      <div>\n",
              "<style scoped>\n",
              "    .dataframe tbody tr th:only-of-type {\n",
              "        vertical-align: middle;\n",
              "    }\n",
              "\n",
              "    .dataframe tbody tr th {\n",
              "        vertical-align: top;\n",
              "    }\n",
              "\n",
              "    .dataframe thead th {\n",
              "        text-align: right;\n",
              "    }\n",
              "</style>\n",
              "<table border=\"1\" class=\"dataframe\">\n",
              "  <thead>\n",
              "    <tr style=\"text-align: right;\">\n",
              "      <th></th>\n",
              "      <th>ID</th>\n",
              "      <th>Test Type</th>\n",
              "      <th>Test Status</th>\n",
              "      <th>IV Status</th>\n",
              "      <th>Location Name</th>\n",
              "      <th>Unable to Schedule?</th>\n",
              "      <th>Incomplete Referral?</th>\n",
              "      <th>Unable to Schedule Reason</th>\n",
              "      <th>IV Status_numeric</th>\n",
              "      <th>Age</th>\n",
              "      <th>Referral Month</th>\n",
              "    </tr>\n",
              "  </thead>\n",
              "  <tbody>\n",
              "    <tr>\n",
              "      <th>0</th>\n",
              "      <td>0</td>\n",
              "      <td>0</td>\n",
              "      <td>0</td>\n",
              "      <td>0</td>\n",
              "      <td>0</td>\n",
              "      <td>0</td>\n",
              "      <td>0</td>\n",
              "      <td>-1</td>\n",
              "      <td>0</td>\n",
              "      <td>42.0</td>\n",
              "      <td>10</td>\n",
              "    </tr>\n",
              "    <tr>\n",
              "      <th>1</th>\n",
              "      <td>1</td>\n",
              "      <td>1</td>\n",
              "      <td>0</td>\n",
              "      <td>0</td>\n",
              "      <td>1</td>\n",
              "      <td>0</td>\n",
              "      <td>0</td>\n",
              "      <td>-1</td>\n",
              "      <td>0</td>\n",
              "      <td>67.0</td>\n",
              "      <td>10</td>\n",
              "    </tr>\n",
              "    <tr>\n",
              "      <th>2</th>\n",
              "      <td>2</td>\n",
              "      <td>2</td>\n",
              "      <td>0</td>\n",
              "      <td>0</td>\n",
              "      <td>2</td>\n",
              "      <td>0</td>\n",
              "      <td>0</td>\n",
              "      <td>-1</td>\n",
              "      <td>0</td>\n",
              "      <td>54.0</td>\n",
              "      <td>11</td>\n",
              "    </tr>\n",
              "    <tr>\n",
              "      <th>3</th>\n",
              "      <td>3</td>\n",
              "      <td>3</td>\n",
              "      <td>0</td>\n",
              "      <td>0</td>\n",
              "      <td>3</td>\n",
              "      <td>0</td>\n",
              "      <td>1</td>\n",
              "      <td>-1</td>\n",
              "      <td>0</td>\n",
              "      <td>45.0</td>\n",
              "      <td>8</td>\n",
              "    </tr>\n",
              "    <tr>\n",
              "      <th>4</th>\n",
              "      <td>4</td>\n",
              "      <td>0</td>\n",
              "      <td>0</td>\n",
              "      <td>0</td>\n",
              "      <td>0</td>\n",
              "      <td>0</td>\n",
              "      <td>0</td>\n",
              "      <td>-1</td>\n",
              "      <td>0</td>\n",
              "      <td>30.0</td>\n",
              "      <td>8</td>\n",
              "    </tr>\n",
              "  </tbody>\n",
              "</table>\n",
              "</div>\n",
              "      <button class=\"colab-df-convert\" onclick=\"convertToInteractive('df-d506b5db-4a59-42a8-a2f8-887e9e8986e0')\"\n",
              "              title=\"Convert this dataframe to an interactive table.\"\n",
              "              style=\"display:none;\">\n",
              "        \n",
              "  <svg xmlns=\"http://www.w3.org/2000/svg\" height=\"24px\"viewBox=\"0 0 24 24\"\n",
              "       width=\"24px\">\n",
              "    <path d=\"M0 0h24v24H0V0z\" fill=\"none\"/>\n",
              "    <path d=\"M18.56 5.44l.94 2.06.94-2.06 2.06-.94-2.06-.94-.94-2.06-.94 2.06-2.06.94zm-11 1L8.5 8.5l.94-2.06 2.06-.94-2.06-.94L8.5 2.5l-.94 2.06-2.06.94zm10 10l.94 2.06.94-2.06 2.06-.94-2.06-.94-.94-2.06-.94 2.06-2.06.94z\"/><path d=\"M17.41 7.96l-1.37-1.37c-.4-.4-.92-.59-1.43-.59-.52 0-1.04.2-1.43.59L10.3 9.45l-7.72 7.72c-.78.78-.78 2.05 0 2.83L4 21.41c.39.39.9.59 1.41.59.51 0 1.02-.2 1.41-.59l7.78-7.78 2.81-2.81c.8-.78.8-2.07 0-2.86zM5.41 20L4 18.59l7.72-7.72 1.47 1.35L5.41 20z\"/>\n",
              "  </svg>\n",
              "      </button>\n",
              "      \n",
              "  <style>\n",
              "    .colab-df-container {\n",
              "      display:flex;\n",
              "      flex-wrap:wrap;\n",
              "      gap: 12px;\n",
              "    }\n",
              "\n",
              "    .colab-df-convert {\n",
              "      background-color: #E8F0FE;\n",
              "      border: none;\n",
              "      border-radius: 50%;\n",
              "      cursor: pointer;\n",
              "      display: none;\n",
              "      fill: #1967D2;\n",
              "      height: 32px;\n",
              "      padding: 0 0 0 0;\n",
              "      width: 32px;\n",
              "    }\n",
              "\n",
              "    .colab-df-convert:hover {\n",
              "      background-color: #E2EBFA;\n",
              "      box-shadow: 0px 1px 2px rgba(60, 64, 67, 0.3), 0px 1px 3px 1px rgba(60, 64, 67, 0.15);\n",
              "      fill: #174EA6;\n",
              "    }\n",
              "\n",
              "    [theme=dark] .colab-df-convert {\n",
              "      background-color: #3B4455;\n",
              "      fill: #D2E3FC;\n",
              "    }\n",
              "\n",
              "    [theme=dark] .colab-df-convert:hover {\n",
              "      background-color: #434B5C;\n",
              "      box-shadow: 0px 1px 3px 1px rgba(0, 0, 0, 0.15);\n",
              "      filter: drop-shadow(0px 1px 2px rgba(0, 0, 0, 0.3));\n",
              "      fill: #FFFFFF;\n",
              "    }\n",
              "  </style>\n",
              "\n",
              "      <script>\n",
              "        const buttonEl =\n",
              "          document.querySelector('#df-d506b5db-4a59-42a8-a2f8-887e9e8986e0 button.colab-df-convert');\n",
              "        buttonEl.style.display =\n",
              "          google.colab.kernel.accessAllowed ? 'block' : 'none';\n",
              "\n",
              "        async function convertToInteractive(key) {\n",
              "          const element = document.querySelector('#df-d506b5db-4a59-42a8-a2f8-887e9e8986e0');\n",
              "          const dataTable =\n",
              "            await google.colab.kernel.invokeFunction('convertToInteractive',\n",
              "                                                     [key], {});\n",
              "          if (!dataTable) return;\n",
              "\n",
              "          const docLinkHtml = 'Like what you see? Visit the ' +\n",
              "            '<a target=\"_blank\" href=https://colab.research.google.com/notebooks/data_table.ipynb>data table notebook</a>'\n",
              "            + ' to learn more about interactive tables.';\n",
              "          element.innerHTML = '';\n",
              "          dataTable['output_type'] = 'display_data';\n",
              "          await google.colab.output.renderOutput(dataTable, element);\n",
              "          const docLink = document.createElement('div');\n",
              "          docLink.innerHTML = docLinkHtml;\n",
              "          element.appendChild(docLink);\n",
              "        }\n",
              "      </script>\n",
              "    </div>\n",
              "  </div>\n",
              "  "
            ]
          },
          "metadata": {},
          "execution_count": 10
        }
      ]
    },
    {
      "cell_type": "markdown",
      "source": [
        "# Questions to answer\n",
        "- volume by test type\n",
        "\n",
        "1.   what % of total orders were completed \n",
        "2.   of the order that were not completed due to unable to schedule - reason: unable to contact pt\n",
        "3. same but reason: patient refused\n",
        "4. highest volume ordering doctors (not interpreting doctor)\n",
        "5. highest volume by primary insurance"
      ],
      "metadata": {
        "id": "aeHKBTPdavzE"
      }
    },
    {
      "cell_type": "code",
      "source": [
        "#Basic Filter\n",
        "def filter_df(df, column, value):\n",
        "    return df[df[column] == value]\n",
        "\n",
        "def multi_filter_df(df, columns, values):\n",
        "    result = df\n",
        "    for col, val in zip(columns, values):\n",
        "        result = result[result[col] == val]\n",
        "    return result\n",
        "\n",
        "no_contact_no_schedule = multi_filter_df(df_numeric_w_categories, ['Unable to Schedule?', 'Unable to Schedule Reason '], ['No', 'PATIENT: Unable to contact'] )\n",
        "refuse_no_schedule = multi_filter_df(df_numeric_w_categories, ['Unable to Schedule?', 'Unable to Schedule Reason '], ['No', 'PATIENT: Refused study'])\n",
        "\n",
        "no_contact_num  = filter_df(df_numeric_w_categories, 'Unable to Schedule?','No').shape[0]\n",
        "\n",
        "\n",
        "percent_no_contact = (no_contact_no_schedule.shape[0] /no_contact_num  ) * 100\n",
        "percent_refuse = (refuse_no_schedule.shape[0] / no_contact_num) * 100\n",
        "print('% of patients that weren\\'t scheduled for reason: Unable to contact: {:.2f}%'.format(percent_no_contact))\n",
        "print('% of patients that weren\\'t scheduled for reason: Pateient refused: {:.2f}%'.format(percent_refuse))\n"
      ],
      "metadata": {
        "colab": {
          "base_uri": "https://localhost:8080/"
        },
        "id": "TmDwb55e6cVm",
        "outputId": "e528316d-e1f9-4cda-eb9a-46e9d5ff5498"
      },
      "execution_count": 41,
      "outputs": [
        {
          "output_type": "stream",
          "name": "stdout",
          "text": [
            "% of patients that weren't scheduled for reason: Unable to contact: 7.94%\n",
            "% of patients that weren't scheduled for reason: Pateient refused: 0.34%\n"
          ]
        }
      ]
    },
    {
      "cell_type": "markdown",
      "source": [
        "2. What percentage of orders were not completed due to the reason \"unable to contact patient\"? - 7.94%\n",
        "3. What percentage of orders were not completed due to the reason \"pateient refused\"? - 0.34%"
      ],
      "metadata": {
        "id": "POEtvPVhAujg"
      }
    },
    {
      "cell_type": "code",
      "source": [
        "#print(np.array(unique_maps['IV Status']))\n",
        "distArrayVar = list(merged_df['Test Status'].value_counts().sort_index().values)\n",
        "print(distArrayVar)\n",
        "\n",
        "#print(distArrayVar)\n",
        "height = distArrayVar\n",
        "bars = list(mapping_defs['Test Status'].keys())\n",
        "x_pos = np.arange(len(bars))\n",
        "\n",
        "# Create bars with different colors\n",
        "plt.bar(x_pos, height, color=['green', 'purple', 'teal', 'magenta', 'lime', 'purple', 'black'])\n",
        "for i, v in enumerate(height):\n",
        "    plt.text(x_pos[i]+0.0, v+0.01, str(v), ha = 'center', va = 'bottom')\n",
        "# Create names on the x-axis\n",
        "plt.xticks(x_pos, bars, rotation=90)\n",
        "\n",
        "\n",
        "\n",
        "# Show graph\n",
        "plt.show()\n",
        "#"
      ],
      "metadata": {
        "colab": {
          "base_uri": "https://localhost:8080/",
          "height": 457
        },
        "id": "ncshuM-8tTMM",
        "outputId": "2a48f71c-62a1-41ca-f5e3-d7df569aeba3"
      },
      "execution_count": 14,
      "outputs": [
        {
          "output_type": "stream",
          "name": "stdout",
          "text": [
            "[2393, 534, 21, 1734, 40, 1, 1]\n"
          ]
        },
        {
          "output_type": "display_data",
          "data": {
            "text/plain": [
              "<Figure size 432x288 with 1 Axes>"
            ],
            "image/png": "[encoded data removed]"
          },
          "metadata": {
            "needs_background": "light"
          }
        }
      ]
    },
    {
      "cell_type": "code",
      "source": [
        "plt.figure(figsize=(14, 10))\n",
        "print(list(mapping_defs['Test Status'].keys()))\n",
        "# Make a barplot\n",
        "y = list(df_numeric_w_categories['Test Status'].value_counts().values)\n",
        "x = list(mapping_defs['Test Status'].keys())\n",
        "sns.barplot(\n",
        "    x = x, \n",
        "    y = y, \n",
        "    data=merged_df, \n",
        "    estimator=sum, \n",
        "    ci=None, \n",
        "    color='#69b3a2'\n",
        ");\n",
        "\n",
        "x_pos = np.arange(len(y))\n",
        "\n",
        "for i, v in enumerate(y):\n",
        "    plt.text(x_pos[i]+0.0, v+0.01, str(v), ha = 'center', va = 'bottom')\n",
        "plt.xticks(x_pos, x, rotation=90)\n",
        "plt.show()"
      ],
      "metadata": {
        "colab": {
          "base_uri": "https://localhost:8080/",
          "height": 801
        },
        "id": "_zxjPbPJwibz",
        "outputId": "640a80b0-da54-4d8a-bdfc-f29cff408f73"
      },
      "execution_count": 18,
      "outputs": [
        {
          "output_type": "stream",
          "name": "stdout",
          "text": [
            "['To Be Scheduled', 'Scheduled', 'To Be Evaluated', 'Has Been Evaluated', 'Archive- Incomplete or Invalid Study', 'To Be Re-Uploaded', 'To Be Scored']\n"
          ]
        },
        {
          "output_type": "display_data",
          "data": {
            "text/plain": [
              "<Figure size 1008x720 with 1 Axes>"
            ],
            "image/png": "[encoded data removed]"
          },
          "metadata": {
            "needs_background": "light"
          }
        }
      ]
    },
    {
      "cell_type": "markdown",
      "source": [
        "Pending- NEW Referral         :      2329<br>\n",
        "Complete                      :      2159<br>\n",
        "Denied                        :       114<br>\n",
        "Pending- Need additional info :        90<br>\n",
        "Pending- Authorization Initiated  :    26<br>\n",
        "Pending- Hold IV                :       4<br>\n",
        "\n"
      ],
      "metadata": {
        "id": "Bm-mM-Se2Ek8"
      }
    },
    {
      "cell_type": "code",
      "source": [
        "\n",
        "plt.figure(figsize=(14, 10))\n",
        "\n",
        "# Make a barplot\n",
        "y = list(df_numeric_w_categories['IV Status'].value_counts().values)\n",
        "x = list(df_numeric_w_categories['IV Status'].value_counts().index)\n",
        "sns.barplot(\n",
        "    x=x, \n",
        "    y=y, \n",
        "    data=merged_df, \n",
        "    estimator=sum, \n",
        "    ci=None, \n",
        "    color='#69b3a2'\n",
        ");\n",
        "\n",
        "x_pos = np.arange(len(y))\n",
        "\n",
        "for i, v in enumerate(y):\n",
        "    plt.text(x_pos[i]+0.0, v+0.01, str(v), ha = 'center', va = 'bottom')\n",
        "plt.xticks(x_pos, x, rotation=90)\n",
        "plt.show()"
      ],
      "metadata": {
        "colab": {
          "base_uri": "https://localhost:8080/",
          "height": 740
        },
        "id": "0gyKTXLbfRrm",
        "outputId": "8b246ee2-2d75-4981-8c4b-46da0b507186"
      },
      "execution_count": 19,
      "outputs": [
        {
          "output_type": "display_data",
          "data": {
            "text/plain": [
              "<Figure size 1008x720 with 1 Axes>"
            ],
            "image/png": "[encoded data removed]"
          },
          "metadata": {
            "needs_background": "light"
          }
        }
      ]
    },
    {
      "cell_type": "markdown",
      "source": [
        "def right_mapper(){}"
      ],
      "metadata": {
        "id": "tvwZENQgGcZs"
      }
    },
    {
      "cell_type": "code",
      "source": [
        "# Load some data\n",
        "# data = ...\n",
        "print(merged_df['IV Status'].value_counts().sort_index())\n",
        "\n",
        "\n",
        "\n",
        "x_variable = list(mapping_defs['IV Status'].keys())\n",
        "y_variable = merged_df['IV Status']\n",
        "data = merged_df['IV Status']\n",
        "\n",
        "print(x_variable)\n",
        "# Plot a bar graph using the data\n",
        "#sns.barplot(x=x_variable, y=y_variable, data=data)\n",
        "\n",
        "# Add a title to the plot\n",
        "plt.title('Bar Graph')\n",
        "\n",
        "# Show the plot\n",
        "plt.show()"
      ],
      "metadata": {
        "colab": {
          "base_uri": "https://localhost:8080/",
          "height": 457
        },
        "id": "bHp7D-zo8q1T",
        "outputId": "db66446c-1c87-48eb-aeca-bf40b380dcb3"
      },
      "execution_count": 20,
      "outputs": [
        {
          "output_type": "stream",
          "name": "stdout",
          "text": [
            "-1       2\n",
            " 0    2329\n",
            " 1    2159\n",
            " 2      90\n",
            " 3      26\n",
            " 4     114\n",
            " 5       4\n",
            "Name: IV Status, dtype: int64\n",
            "['Pending- NEW Referral', 'Complete', 'Pending- Need additional info', 'Pending- Authorization Initiated', 'Denied', 'Pending- Hold IV']\n"
          ]
        },
        {
          "output_type": "display_data",
          "data": {
            "text/plain": [
              "<Figure size 432x288 with 1 Axes>"
            ],
            "image/png": "[encoded data removed]"
          },
          "metadata": {
            "needs_background": "light"
          }
        }
      ]
    },
    {
      "cell_type": "markdown",
      "source": [
        "here's another single column visualization."
      ],
      "metadata": {
        "id": "LOsI_kowblnD"
      }
    },
    {
      "cell_type": "code",
      "source": [
        "sns.displot(merged_df['Age'])"
      ],
      "metadata": {
        "colab": {
          "base_uri": "https://localhost:8080/",
          "height": 386
        },
        "id": "tYc_vEHiQQyR",
        "outputId": "14612c77-fd66-493f-d1f5-8aff8e4239e8"
      },
      "execution_count": null,
      "outputs": [
        {
          "output_type": "execute_result",
          "data": {
            "text/plain": [
              "<seaborn.axisgrid.FacetGrid at 0x7f775268e490>"
            ]
          },
          "metadata": {},
          "execution_count": 248
        },
        {
          "output_type": "display_data",
          "data": {
            "text/plain": [
              "<Figure size 360x360 with 1 Axes>"
            ],
            "image/png": "[encoded data removed]"
          },
          "metadata": {
            "needs_background": "light"
          }
        }
      ]
    },
    {
      "cell_type": "code",
      "source": [
        "print(\"Skewness: %f\" % merged_df['Test Type'].skew())\n",
        "print(\"Kurtosis: %f\" % merged_df['Test Type'].kurt())"
      ],
      "metadata": {
        "colab": {
          "base_uri": "https://localhost:8080/"
        },
        "id": "pcL4avNwP_n5",
        "outputId": "2f541945-c90e-4ca1-d222-349f3b1a998e"
      },
      "execution_count": null,
      "outputs": [
        {
          "output_type": "stream",
          "name": "stdout",
          "text": [
            "Skewness: 0.385246\n",
            "Kurtosis: -1.479339\n"
          ]
        }
      ]
    },
    {
      "cell_type": "code",
      "source": [
        "varX = 'Age'\n",
        "varY = 'Location Name'\n",
        "data = pd.concat([merged_df[varY], merged_df[varX]], axis=1)\n",
        "data.plot.scatter(x=varX, y=varY, ylim=(0,3));"
      ],
      "metadata": {
        "colab": {
          "base_uri": "https://localhost:8080/",
          "height": 326
        },
        "id": "_SWhUeCEQDp9",
        "outputId": "33423041-4eab-4e70-816b-bba3441c6c5c"
      },
      "execution_count": null,
      "outputs": [
        {
          "output_type": "stream",
          "name": "stderr",
          "text": [
            "WARNING:matplotlib.axes._axes:*c* argument looks like a single numeric RGB or RGBA sequence, which should be avoided as value-mapping will have precedence in case its length matches with *x* & *y*.  Please use the *color* keyword-argument or provide a 2-D array with a single row if you intend to specify the same RGB or RGBA value for all points.\n"
          ]
        },
        {
          "output_type": "display_data",
          "data": {
            "text/plain": [
              "<Figure size 432x288 with 1 Axes>"
            ],
            "image/png": "[encoded data removed]"
          },
          "metadata": {
            "needs_background": "light"
          }
        }
      ]
    },
    {
      "cell_type": "markdown",
      "source": [
        "This is just a duplicate of the above"
      ],
      "metadata": {
        "id": "ww1HpdLlbt8A"
      }
    },
    {
      "cell_type": "code",
      "source": [
        "sns.distplot(df_numeric['Unable to Schedule?']);"
      ],
      "metadata": {
        "colab": {
          "base_uri": "https://localhost:8080/",
          "height": 285
        },
        "id": "5fNADX-JPk62",
        "outputId": "0efceac6-c559-494a-824b-cb3cf27e4aab"
      },
      "execution_count": null,
      "outputs": [
        {
          "output_type": "display_data",
          "data": {
            "text/plain": [
              "<Figure size 432x288 with 1 Axes>"
            ],
            "image/png": "[encoded data removed]"
          },
          "metadata": {
            "needs_background": "light"
          }
        }
      ]
    },
    {
      "cell_type": "code",
      "source": [
        "corrmat = merged_df.corr()\n",
        "f, ax = plt.subplots(figsize=(12, 9))\n",
        "sns.heatmap(corrmat, vmax=.6,cmap=\"Greens\", square=True);"
      ],
      "metadata": {
        "colab": {
          "base_uri": "https://localhost:8080/",
          "height": 649
        },
        "id": "_uwDburLhdgA",
        "outputId": "9a9da055-98d9-4594-844e-65ca582bac03"
      },
      "execution_count": null,
      "outputs": [
        {
          "output_type": "display_data",
          "data": {
            "text/plain": [
              "<Figure size 864x648 with 2 Axes>"
            ],
            "image/png": "[encoded data removed]"
          },
          "metadata": {
            "needs_background": "light"
          }
        }
      ]
    }
  ]
}